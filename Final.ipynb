{
 "cells": [
  {
   "cell_type": "code",
   "execution_count": 10,
   "metadata": {
    "collapsed": true
   },
   "outputs": [],
   "source": [
    "import random\n",
    "from base64 import b64decode\n",
    "from json import loads\n",
    "import numpy as np\n",
    "import matplotlib.pyplot as plt\n",
    "%matplotlib inline\n",
    "from sklearn.cluster import KMeans\n",
    "import sklearn\n",
    "from scipy.stats import mode\n",
    "from sklearn.metrics import confusion_matrix\n",
    "import seaborn as sns; sns.set()  # for plot styling"
   ]
  },
  {
   "cell_type": "code",
   "execution_count": 11,
   "metadata": {
    "collapsed": true
   },
   "outputs": [],
   "source": [
    "def ler(x):\n",
    "\n",
    "    digit = loads(x)\n",
    "    array = np.fromstring(b64decode(digit[\"data\"]),dtype=np.ubyte)\n",
    "    array = array.astype(np.float64)\n",
    "    return (digit[\"label\"], array)"
   ]
  },
  {
   "cell_type": "code",
   "execution_count": 12,
   "metadata": {
    "collapsed": true
   },
   "outputs": [],
   "source": [
    "#Lemos o dataset e criamos uma lista com todos os valores\n",
    "with open(\"digits.base64.json\",\"r\") as f:\n",
    "    digits = map(ler, f.readlines())\n",
    "digits=list(digits)"
   ]
  },
  {
   "cell_type": "code",
   "execution_count": 5,
   "metadata": {
    "collapsed": true
   },
   "outputs": [],
   "source": [
    "#Definimos uma função que transforma os vetores com os pixeis em uma imagem\n",
    "#com o digito\n",
    "def display_digit(digit, labeled = True, title = \"\"):\n",
    "    if labeled:\n",
    "        digit = digit[1]\n",
    "    image = digit\n",
    "    plt.figure()\n",
    "    fig = plt.imshow(image.reshape(28,28))\n",
    "    fig.set_cmap('gray_r')\n",
    "    fig.axes.get_xaxis().set_visible(False)\n",
    "    fig.axes.get_yaxis().set_visible(False)\n",
    "    if title != \"\":\n",
    "        plt.title(\"Inferred label: \" + str(title))"
   ]
  },
  {
   "cell_type": "code",
   "execution_count": 6,
   "metadata": {
    "collapsed": false
   },
   "outputs": [
    {
     "data": {
      "text/plain": [
       "(5, array([   0.,    0.,    0.,    0.,    0.,    0.,    0.,    0.,    0.,\n",
       "           0.,    0.,    0.,    0.,    0.,    0.,    0.,    0.,    0.,\n",
       "           0.,    0.,    0.,    0.,    0.,    0.,    0.,    0.,    0.,\n",
       "           0.,    0.,    0.,    0.,    0.,    0.,    0.,    0.,    0.,\n",
       "           0.,    0.,    0.,    0.,    0.,    0.,    0.,    0.,    0.,\n",
       "           0.,    0.,    0.,    0.,    0.,    0.,    0.,    0.,    0.,\n",
       "           0.,    0.,    0.,    0.,    0.,    0.,    0.,    0.,    0.,\n",
       "           0.,    0.,    0.,    0.,    0.,    0.,    0.,    0.,    0.,\n",
       "           0.,    0.,    0.,    0.,    0.,    0.,    0.,    0.,    0.,\n",
       "           0.,    0.,    0.,    0.,    0.,    0.,    0.,    0.,    0.,\n",
       "           0.,    0.,    0.,    0.,    0.,    0.,    0.,    0.,    0.,\n",
       "           0.,    0.,    0.,    0.,    0.,    0.,    0.,    0.,    0.,\n",
       "           0.,    0.,    0.,    0.,    0.,    0.,    0.,    0.,    0.,\n",
       "           0.,    0.,    0.,    0.,    0.,    0.,    0.,    0.,    0.,\n",
       "           0.,    0.,    0.,    0.,    0.,    0.,    0.,    0.,    0.,\n",
       "           0.,    0.,    0.,    0.,    0.,    0.,    0.,    0.,    0.,\n",
       "           0.,    0.,    0.,    0.,    0.,    0.,    0.,    0.,    3.,\n",
       "          18.,   18.,   18.,  126.,  136.,  175.,   26.,  166.,  255.,\n",
       "         247.,  127.,    0.,    0.,    0.,    0.,    0.,    0.,    0.,\n",
       "           0.,    0.,    0.,    0.,    0.,   30.,   36.,   94.,  154.,\n",
       "         170.,  253.,  253.,  253.,  253.,  253.,  225.,  172.,  253.,\n",
       "         242.,  195.,   64.,    0.,    0.,    0.,    0.,    0.,    0.,\n",
       "           0.,    0.,    0.,    0.,    0.,   49.,  238.,  253.,  253.,\n",
       "         253.,  253.,  253.,  253.,  253.,  253.,  251.,   93.,   82.,\n",
       "          82.,   56.,   39.,    0.,    0.,    0.,    0.,    0.,    0.,\n",
       "           0.,    0.,    0.,    0.,    0.,    0.,   18.,  219.,  253.,\n",
       "         253.,  253.,  253.,  253.,  198.,  182.,  247.,  241.,    0.,\n",
       "           0.,    0.,    0.,    0.,    0.,    0.,    0.,    0.,    0.,\n",
       "           0.,    0.,    0.,    0.,    0.,    0.,    0.,    0.,   80.,\n",
       "         156.,  107.,  253.,  253.,  205.,   11.,    0.,   43.,  154.,\n",
       "           0.,    0.,    0.,    0.,    0.,    0.,    0.,    0.,    0.,\n",
       "           0.,    0.,    0.,    0.,    0.,    0.,    0.,    0.,    0.,\n",
       "           0.,   14.,    1.,  154.,  253.,   90.,    0.,    0.,    0.,\n",
       "           0.,    0.,    0.,    0.,    0.,    0.,    0.,    0.,    0.,\n",
       "           0.,    0.,    0.,    0.,    0.,    0.,    0.,    0.,    0.,\n",
       "           0.,    0.,    0.,    0.,  139.,  253.,  190.,    2.,    0.,\n",
       "           0.,    0.,    0.,    0.,    0.,    0.,    0.,    0.,    0.,\n",
       "           0.,    0.,    0.,    0.,    0.,    0.,    0.,    0.,    0.,\n",
       "           0.,    0.,    0.,    0.,    0.,   11.,  190.,  253.,   70.,\n",
       "           0.,    0.,    0.,    0.,    0.,    0.,    0.,    0.,    0.,\n",
       "           0.,    0.,    0.,    0.,    0.,    0.,    0.,    0.,    0.,\n",
       "           0.,    0.,    0.,    0.,    0.,    0.,    0.,   35.,  241.,\n",
       "         225.,  160.,  108.,    1.,    0.,    0.,    0.,    0.,    0.,\n",
       "           0.,    0.,    0.,    0.,    0.,    0.,    0.,    0.,    0.,\n",
       "           0.,    0.,    0.,    0.,    0.,    0.,    0.,    0.,    0.,\n",
       "          81.,  240.,  253.,  253.,  119.,   25.,    0.,    0.,    0.,\n",
       "           0.,    0.,    0.,    0.,    0.,    0.,    0.,    0.,    0.,\n",
       "           0.,    0.,    0.,    0.,    0.,    0.,    0.,    0.,    0.,\n",
       "           0.,    0.,   45.,  186.,  253.,  253.,  150.,   27.,    0.,\n",
       "           0.,    0.,    0.,    0.,    0.,    0.,    0.,    0.,    0.,\n",
       "           0.,    0.,    0.,    0.,    0.,    0.,    0.,    0.,    0.,\n",
       "           0.,    0.,    0.,    0.,   16.,   93.,  252.,  253.,  187.,\n",
       "           0.,    0.,    0.,    0.,    0.,    0.,    0.,    0.,    0.,\n",
       "           0.,    0.,    0.,    0.,    0.,    0.,    0.,    0.,    0.,\n",
       "           0.,    0.,    0.,    0.,    0.,    0.,    0.,  249.,  253.,\n",
       "         249.,   64.,    0.,    0.,    0.,    0.,    0.,    0.,    0.,\n",
       "           0.,    0.,    0.,    0.,    0.,    0.,    0.,    0.,    0.,\n",
       "           0.,    0.,    0.,    0.,    0.,   46.,  130.,  183.,  253.,\n",
       "         253.,  207.,    2.,    0.,    0.,    0.,    0.,    0.,    0.,\n",
       "           0.,    0.,    0.,    0.,    0.,    0.,    0.,    0.,    0.,\n",
       "           0.,    0.,    0.,    0.,   39.,  148.,  229.,  253.,  253.,\n",
       "         253.,  250.,  182.,    0.,    0.,    0.,    0.,    0.,    0.,\n",
       "           0.,    0.,    0.,    0.,    0.,    0.,    0.,    0.,    0.,\n",
       "           0.,    0.,    0.,   24.,  114.,  221.,  253.,  253.,  253.,\n",
       "         253.,  201.,   78.,    0.,    0.,    0.,    0.,    0.,    0.,\n",
       "           0.,    0.,    0.,    0.,    0.,    0.,    0.,    0.,    0.,\n",
       "           0.,    0.,   23.,   66.,  213.,  253.,  253.,  253.,  253.,\n",
       "         198.,   81.,    2.,    0.,    0.,    0.,    0.,    0.,    0.,\n",
       "           0.,    0.,    0.,    0.,    0.,    0.,    0.,    0.,    0.,\n",
       "           0.,   18.,  171.,  219.,  253.,  253.,  253.,  253.,  195.,\n",
       "          80.,    9.,    0.,    0.,    0.,    0.,    0.,    0.,    0.,\n",
       "           0.,    0.,    0.,    0.,    0.,    0.,    0.,    0.,    0.,\n",
       "          55.,  172.,  226.,  253.,  253.,  253.,  253.,  244.,  133.,\n",
       "          11.,    0.,    0.,    0.,    0.,    0.,    0.,    0.,    0.,\n",
       "           0.,    0.,    0.,    0.,    0.,    0.,    0.,    0.,    0.,\n",
       "           0.,  136.,  253.,  253.,  253.,  212.,  135.,  132.,   16.,\n",
       "           0.,    0.,    0.,    0.,    0.,    0.,    0.,    0.,    0.,\n",
       "           0.,    0.,    0.,    0.,    0.,    0.,    0.,    0.,    0.,\n",
       "           0.,    0.,    0.,    0.,    0.,    0.,    0.,    0.,    0.,\n",
       "           0.,    0.,    0.,    0.,    0.,    0.,    0.,    0.,    0.,\n",
       "           0.,    0.,    0.,    0.,    0.,    0.,    0.,    0.,    0.,\n",
       "           0.,    0.,    0.,    0.,    0.,    0.,    0.,    0.,    0.,\n",
       "           0.,    0.,    0.,    0.,    0.,    0.,    0.,    0.,    0.,\n",
       "           0.,    0.,    0.,    0.,    0.,    0.,    0.,    0.,    0.,\n",
       "           0.,    0.,    0.,    0.,    0.,    0.,    0.,    0.,    0.,\n",
       "           0.,    0.,    0.,    0.,    0.,    0.,    0.,    0.,    0.,\n",
       "           0.,    0.,    0.,    0.,    0.,    0.,    0.,    0.,    0.,    0.]))"
      ]
     },
     "execution_count": 6,
     "metadata": {},
     "output_type": "execute_result"
    }
   ],
   "source": [
    "digits[0]"
   ]
  },
  {
   "cell_type": "code",
   "execution_count": 7,
   "metadata": {
    "collapsed": false
   },
   "outputs": [
    {
     "data": {
      "image/png": "[encoded data removed]",
      "text/plain": [
       "<matplotlib.figure.Figure at 0x1502bac6eb8>"
      ]
     },
     "metadata": {},
     "output_type": "display_data"
    }
   ],
   "source": [
    "display_digit(digits[0])"
   ]
  },
  {
   "cell_type": "code",
   "execution_count": 8,
   "metadata": {
    "collapsed": true
   },
   "outputs": [],
   "source": [
    "#Criamos uma nova lista que armazenará apenas a informação dos pixeis\n",
    "#de cada dígito\n",
    "new_digits=[]\n",
    "cont=0\n",
    "while cont<len(digits):\n",
    "    new_digits.append(digits[cont][1])\n",
    "    cont+=1"
   ]
  },
  {
   "cell_type": "code",
   "execution_count": 9,
   "metadata": {
    "collapsed": false
   },
   "outputs": [
    {
     "data": {
      "text/plain": [
       "KMeans(algorithm='auto', copy_x=True, init='k-means++', max_iter=300,\n",
       "    n_clusters=10, n_init=10, n_jobs=1, precompute_distances='auto',\n",
       "    random_state=None, tol=0.0001, verbose=0)"
      ]
     },
     "execution_count": 9,
     "metadata": {},
     "output_type": "execute_result"
    }
   ],
   "source": [
    "#Usamos o KMeans do sklearn para descobrir as clusters\n",
    "n=10\n",
    "kmeans = KMeans(n_clusters=n)\n",
    "kmeans.fit(new_digits)"
   ]
  },
  {
   "cell_type": "code",
   "execution_count": null,
   "metadata": {
    "collapsed": false
   },
   "outputs": [],
   "source": [
    "#Criamos uma lista com o index da cluster à qual cada dígito pertence\n",
    "#Criamos também uma lista com os centros de cada cluster\n",
    "clus=kmeans.predict(new_digits)\n",
    "centers = kmeans.cluster_centers_\n",
    "clus"
   ]
  },
  {
   "cell_type": "code",
   "execution_count": null,
   "metadata": {
    "collapsed": false
   },
   "outputs": [],
   "source": [
    "#Encontramos os pontos mais próximos dos centros de cada cluster e plotamos eles,\n",
    "#para que seja possível ter uma ideia da forma dos números que estão em cada\n",
    "#cluster. Idealmente, cada cluster só conteria dígitos que são os mesmos que seus\n",
    "#centros\n",
    "fig, ax = plt.subplots(2, 5, figsize=(8, 3))\n",
    "centers = centers.reshape(10, 28, 28)\n",
    "for axi, center in zip(ax.flat, centers):\n",
    "    axi.set(xticks=[], yticks=[])\n",
    "    axi.imshow(center, interpolation='nearest', cmap=plt.cm.binary)"
   ]
  },
  {
   "cell_type": "code",
   "execution_count": null,
   "metadata": {
    "collapsed": true
   },
   "outputs": [],
   "source": [
    "def acha_nome(i):\n",
    "    valores=[0,0,0,0,0,0,0,0,0,0]\n",
    "    cont=0\n",
    "    while cont<len(digits):\n",
    "        if clus[cont]==i:\n",
    "            valores[digits[cont][0]]=valores[digits[cont][0]]+1\n",
    "        cont=cont+1\n",
    "    m=max(valores)\n",
    "    cont=0\n",
    "    while cont<len(valores):\n",
    "        if m==valores[cont]:\n",
    "            return cont\n",
    "        cont=cont+1\n",
    "            "
   ]
  },
  {
   "cell_type": "code",
   "execution_count": null,
   "metadata": {
    "collapsed": false
   },
   "outputs": [],
   "source": [
    "#Utilizamos a função para encontrar o dígito mais frequente e \"nomeamos\" a cluster\n",
    "#por esse dígito. O index na lista nomes representa o index da cluster e o valor\n",
    "#a ele associado é o nome da cluster.\n",
    "nomes=np.arange(0,n)\n",
    "cont=0\n",
    "while cont<len(nomes):\n",
    "    nomes[cont]=acha_nome(cont)\n",
    "    cont=cont+1\n",
    "nomes"
   ]
  },
  {
   "cell_type": "code",
   "execution_count": null,
   "metadata": {
    "collapsed": true
   },
   "outputs": [],
   "source": [
    "#Cria lista ground truth, que possúi o real valor de cada dígito\n",
    "gt=[]\n",
    "clus_nome=[]\n",
    "cont=0\n",
    "while cont<len(digits):\n",
    "    gt.append(digits[cont][0])\n",
    "    clus_nome.append(nomes[clus[cont]])\n",
    "    cont=cont+1"
   ]
  },
  {
   "cell_type": "code",
   "execution_count": null,
   "metadata": {
    "collapsed": false
   },
   "outputs": [],
   "source": [
    "#Criamos uma confusion matrix, que nos mostra os erros e acertos das clusters\n",
    "mat = confusion_matrix(gt, clus_nome)\n",
    "sns.heatmap(mat.T, square=True, annot=True, fmt='d', cbar=False,\n",
    "            xticklabels=np.arange(0,10),\n",
    "            yticklabels=np.arange(0,10))\n",
    "plt.xlabel('true label')\n",
    "plt.ylabel('predicted label');"
   ]
  },
  {
   "cell_type": "code",
   "execution_count": null,
   "metadata": {
    "collapsed": true
   },
   "outputs": [],
   "source": [
    "#Escrevemos, agora, um código que nos dirá a porcentamge dos acertos\n",
    "def taxa(mat):\n",
    "    acertos=0\n",
    "    cont=0\n",
    "    while cont<10:\n",
    "        acertos += mat[cont][cont]\n",
    "        cont += 1\n",
    "    taxa = acertos/60000\n",
    "    return taxa"
   ]
  },
  {
   "cell_type": "code",
   "execution_count": null,
   "metadata": {
    "collapsed": false
   },
   "outputs": [],
   "source": [
    "taxa(mat)"
   ]
  },
  {
   "cell_type": "markdown",
   "metadata": {},
   "source": [
    "Vemos, assim, que nosso programa já é capaz de agrupar os dígitos na maior parte das vezes. Ainda podemos, no entanto, melhorar bastante sua performance. Olhando para a confusion matrix, é fácil perceber um grave problema: cincos e noves nunca foram corretamente classificados. Olhando para a lista com os \"nomes\" dos clusters e para as imagens dos centros, encontramos o motivo: nenhuma cluster foi classificada como \"5\" ou como \"9\", apesar de dois dos centros serem noves. As clusters desses centros receberam os nomes de 7 e 4, que de fato se assemelham à forma dos noves da imagem. Também vemos que dois dos centros são uns e outros dois são zeros. Isso ocorre porque existem mais do que uma forma de desenhar certos dígitos. Nossa decisão inicial de aplicar o k-means com apenas 10 clusters acabou comprometendo a performance do programa."
   ]
  },
  {
   "cell_type": "markdown",
   "metadata": {},
   "source": [
    "Fazemos, a seguir, um estudo de performance em relação ao número de clusters:"
   ]
  },
  {
   "cell_type": "code",
   "execution_count": null,
   "metadata": {
    "collapsed": false
   },
   "outputs": [],
   "source": [
    "n=10\n",
    "perf=[]\n",
    "while n<31:\n",
    "    kmeans = KMeans(n_clusters=n)\n",
    "    kmeans.fit(new_digits)\n",
    "    clus=kmeans.predict(new_digits)\n",
    "    nomes=np.arange(0,n)\n",
    "    cont=0\n",
    "    while cont<len(nomes):\n",
    "        nomes[cont]=acha_nome(cont)\n",
    "        cont=cont+1\n",
    "    gt=[]\n",
    "    clus_nome=[]\n",
    "    cont=0\n",
    "    while cont<len(digits):\n",
    "        gt.append(digits[cont][0])\n",
    "        clus_nome.append(nomes[clus[cont]])\n",
    "        cont=cont+1\n",
    "    mat = confusion_matrix(gt, clus_nome)\n",
    "    perf.append(taxa(mat))\n",
    "    n+=1\n",
    "perf"
   ]
  },
  {
   "cell_type": "code",
   "execution_count": null,
   "metadata": {
    "collapsed": false
   },
   "outputs": [],
   "source": [
    "perf2=[]\n",
    "n=31\n",
    "while n<41:\n",
    "    kmeans = KMeans(n_clusters=n)\n",
    "    kmeans.fit(new_digits)\n",
    "    clus=kmeans.predict(new_digits)\n",
    "    nomes=np.arange(0,n)\n",
    "    cont=0\n",
    "    while cont<len(nomes):\n",
    "        nomes[cont]=acha_nome(cont)\n",
    "        cont=cont+1\n",
    "    gt=[]\n",
    "    clus_nome=[]\n",
    "    cont=0\n",
    "    while cont<len(digits):\n",
    "        gt.append(digits[cont][0])\n",
    "        clus_nome.append(nomes[clus[cont]])\n",
    "        cont=cont+1\n",
    "    mat = confusion_matrix(gt, clus_nome)\n",
    "    perf2.append(taxa(mat))\n",
    "    n+=1\n",
    "perf2"
   ]
  },
  {
   "cell_type": "code",
   "execution_count": null,
   "metadata": {
    "collapsed": false
   },
   "outputs": [],
   "source": [
    "perf4=[]\n",
    "n=41\n",
    "while n<46:\n",
    "    kmeans = KMeans(n_clusters=n)\n",
    "    kmeans.fit(new_digits)\n",
    "    clus=kmeans.predict(new_digits)\n",
    "    nomes=np.arange(0,n)\n",
    "    cont=0\n",
    "    while cont<len(nomes):\n",
    "        nomes[cont]=acha_nome(cont)\n",
    "        cont=cont+1\n",
    "    gt=[]\n",
    "    clus_nome=[]\n",
    "    cont=0\n",
    "    while cont<len(digits):\n",
    "        gt.append(digits[cont][0])\n",
    "        clus_nome.append(nomes[clus[cont]])\n",
    "        cont=cont+1\n",
    "    mat = confusion_matrix(gt, clus_nome)\n",
    "    perf4.append(taxa(mat))\n",
    "    n+=1\n",
    "perf4"
   ]
  },
  {
   "cell_type": "code",
   "execution_count": null,
   "metadata": {
    "collapsed": false
   },
   "outputs": [],
   "source": [
    "n=100\n",
    "kmeans = KMeans(n_clusters=n)\n",
    "kmeans.fit(new_digits)\n",
    "clus=kmeans.predict(new_digits)\n",
    "nomes=np.arange(0,n)\n",
    "cont=0\n",
    "while cont<len(nomes):\n",
    "    nomes[cont]=acha_nome(cont)\n",
    "    cont=cont+1\n",
    "gt=[]\n",
    "clus_nome=[]\n",
    "cont=0\n",
    "while cont<len(digits):\n",
    "    gt.append(digits[cont][0])\n",
    "    clus_nome.append(nomes[clus[cont]])\n",
    "    cont=cont+1\n",
    "mat = confusion_matrix(gt, clus_nome)\n",
    "taxa100=taxa(mat)\n",
    "print(taxa100)"
   ]
  },
  {
   "cell_type": "code",
   "execution_count": null,
   "metadata": {
    "collapsed": false
   },
   "outputs": [],
   "source": [
    "perf3=perf+perf2\n",
    "perf3=perf3+perf4\n",
    "plt.plot(np.arange(10,46),perf3)\n",
    "plt.show()"
   ]
  },
  {
   "cell_type": "code",
   "execution_count": null,
   "metadata": {
    "collapsed": true
   },
   "outputs": [],
   "source": [
    "Nosso estudo nos mostra que à medida que aumentamos o número de clusters, a \n",
    "performance melhora, sem limite aparente. Ao considerar 100 clusters para o\n",
    "algorítmo, a performance foi bem superior, chegando a quase 88%"
   ]
  },
  {
   "cell_type": "code",
   "execution_count": null,
   "metadata": {
    "collapsed": false
   },
   "outputs": [],
   "source": [
    "n=20\n",
    "kmeans = KMeans(n_clusters=n)\n",
    "kmeans.fit(new_digits)\n",
    "clus=kmeans.predict(new_digits)\n",
    "centers = kmeans.cluster_centers_\n",
    "fig, ax = plt.subplots(4, 5, figsize=(8, 3))\n",
    "centers = centers.reshape(20, 28, 28)\n",
    "for axi, center in zip(ax.flat, centers):\n",
    "    axi.set(xticks=[], yticks=[])\n",
    "    axi.imshow(center, interpolation='nearest', cmap=plt.cm.binary)"
   ]
  },
  {
   "cell_type": "code",
   "execution_count": null,
   "metadata": {
    "collapsed": false
   },
   "outputs": [],
   "source": [
    "n=45\n",
    "kmeans = KMeans(n_clusters=n)\n",
    "kmeans.fit(new_digits)\n",
    "clus=kmeans.predict(new_digits)\n",
    "centers = kmeans.cluster_centers_\n",
    "fig, ax = plt.subplots(9, 5, figsize=(8, 3))\n",
    "centers = centers.reshape(45, 28, 28)\n",
    "for axi, center in zip(ax.flat, centers):\n",
    "    axi.set(xticks=[], yticks=[])\n",
    "    axi.imshow(center, interpolation='nearest', cmap=plt.cm.binary)"
   ]
  },
  {
   "cell_type": "markdown",
   "metadata": {},
   "source": [
    "Vemos aqui, para 45 clusters, os centros. De acordo com o que esperávamos, os centros parecem tomar a forma de jeitos comuns de se escrever cada dígito. Parece que à medida que tomamos mais e mais clusters para rodar o algorítmo, obtemos mais centros que correspondem a uma forma específica de se escrever cada dígito, assim aumentando a chance daquele dígito ser corretamente classificado."
   ]
  },
  {
   "cell_type": "code",
   "execution_count": null,
   "metadata": {
    "collapsed": false
   },
   "outputs": [],
   "source": [
    "nomes=np.arange(0,n)\n",
    "cont=0\n",
    "while cont<len(nomes):\n",
    "    nomes[cont]=acha_nome(cont)\n",
    "    cont=cont+1\n",
    "mat = confusion_matrix(gt, clus_nome)\n",
    "sns.heatmap(mat.T, square=True, annot=True, fmt='d', cbar=False,\n",
    "            xticklabels=np.arange(0,10),\n",
    "            yticklabels=np.arange(0,10))\n",
    "plt.xlabel('true label')\n",
    "plt.ylabel('predicted label');"
   ]
  },
  {
   "cell_type": "code",
   "execution_count": null,
   "metadata": {
    "collapsed": true
   },
   "outputs": [],
   "source": [
    "# print(*clus, sep='\\n')"
   ]
  }
 ],
 "metadata": {
  "kernelspec": {
   "display_name": "Python 3",
   "language": "python",
   "name": "python3"
  },
  "language_info": {
   "codemirror_mode": {
    "name": "ipython",
    "version": 3
   },
   "file_extension": ".py",
   "mimetype": "text/x-python",
   "name": "python",
   "nbconvert_exporter": "python",
   "pygments_lexer": "ipython3",
   "version": "3.6.0"
  }
 },
 "nbformat": 4,
 "nbformat_minor": 2
}
