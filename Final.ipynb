{
 "cells": [
  {
   "cell_type": "code",
   "execution_count": 10,
   "metadata": {
    "collapsed": true
   },
   "outputs": [],
   "source": [
    "import random\n",
    "from base64 import b64decode\n",
    "from json import loads\n",
    "import numpy as np\n",
    "import matplotlib.pyplot as plt\n",
    "%matplotlib inline\n",
    "from sklearn.cluster import KMeans\n",
    "import sklearn\n",
    "from scipy.stats import mode\n",
    "from sklearn.metrics import confusion_matrix\n",
    "import seaborn as sns; sns.set()  # for plot styling"
   ]
  },
  {
   "cell_type": "code",
   "execution_count": 11,
   "metadata": {
    "collapsed": true
   },
   "outputs": [],
   "source": [
    "def ler(x):\n",
    "\n",
    "    digit = loads(x)\n",
    "    array = np.fromstring(b64decode(digit[\"data\"]),dtype=np.ubyte)\n",
    "    array = array.astype(np.float64)\n",
    "    return (digit[\"label\"], array)"
   ]
  },
  {
   "cell_type": "code",
   "execution_count": 12,
   "metadata": {
    "collapsed": true
   },
   "outputs": [],
   "source": [
    "#Lemos o dataset e criamos uma lista com todos os valores\n",
    "with open(\"digits.base64.json\",\"r\") as f:\n",
    "    digits = map(ler, f.readlines())\n",
    "digits=list(digits)"
   ]
  },
  {
   "cell_type": "code",
   "execution_count": 5,
   "metadata": {
    "collapsed": true
   },
   "outputs": [],
   "source": [
    "#Definimos uma função que transforma os vetores com os pixeis em uma imagem\n",
    "#com o digito\n",
    "def display_digit(digit, labeled = True, title = \"\"):\n",
    "    if labeled:\n",
    "        digit = digit[1]\n",
    "    image = digit\n",
    "    plt.figure()\n",
    "    fig = plt.imshow(image.reshape(28,28))\n",
    "    fig.set_cmap('gray_r')\n",
    "    fig.axes.get_xaxis().set_visible(False)\n",
    "    fig.axes.get_yaxis().set_visible(False)\n",
    "    if title != \"\":\n",
    "        plt.title(\"Inferred label: \" + str(title))"
   ]
  },
  {
   "cell_type": "code",
<<<<<<< HEAD
   "execution_count": 6,
   "metadata": {
    "collapsed": false
   },
   "outputs": [
    {
     "data": {
      "text/plain": [
       "(5, array([   0.,    0.,    0.,    0.,    0.,    0.,    0.,    0.,    0.,\n",
       "           0.,    0.,    0.,    0.,    0.,    0.,    0.,    0.,    0.,\n",
       "           0.,    0.,    0.,    0.,    0.,    0.,    0.,    0.,    0.,\n",
       "           0.,    0.,    0.,    0.,    0.,    0.,    0.,    0.,    0.,\n",
       "           0.,    0.,    0.,    0.,    0.,    0.,    0.,    0.,    0.,\n",
       "           0.,    0.,    0.,    0.,    0.,    0.,    0.,    0.,    0.,\n",
       "           0.,    0.,    0.,    0.,    0.,    0.,    0.,    0.,    0.,\n",
       "           0.,    0.,    0.,    0.,    0.,    0.,    0.,    0.,    0.,\n",
       "           0.,    0.,    0.,    0.,    0.,    0.,    0.,    0.,    0.,\n",
       "           0.,    0.,    0.,    0.,    0.,    0.,    0.,    0.,    0.,\n",
       "           0.,    0.,    0.,    0.,    0.,    0.,    0.,    0.,    0.,\n",
       "           0.,    0.,    0.,    0.,    0.,    0.,    0.,    0.,    0.,\n",
       "           0.,    0.,    0.,    0.,    0.,    0.,    0.,    0.,    0.,\n",
       "           0.,    0.,    0.,    0.,    0.,    0.,    0.,    0.,    0.,\n",
       "           0.,    0.,    0.,    0.,    0.,    0.,    0.,    0.,    0.,\n",
       "           0.,    0.,    0.,    0.,    0.,    0.,    0.,    0.,    0.,\n",
       "           0.,    0.,    0.,    0.,    0.,    0.,    0.,    0.,    3.,\n",
       "          18.,   18.,   18.,  126.,  136.,  175.,   26.,  166.,  255.,\n",
       "         247.,  127.,    0.,    0.,    0.,    0.,    0.,    0.,    0.,\n",
       "           0.,    0.,    0.,    0.,    0.,   30.,   36.,   94.,  154.,\n",
       "         170.,  253.,  253.,  253.,  253.,  253.,  225.,  172.,  253.,\n",
       "         242.,  195.,   64.,    0.,    0.,    0.,    0.,    0.,    0.,\n",
       "           0.,    0.,    0.,    0.,    0.,   49.,  238.,  253.,  253.,\n",
       "         253.,  253.,  253.,  253.,  253.,  253.,  251.,   93.,   82.,\n",
       "          82.,   56.,   39.,    0.,    0.,    0.,    0.,    0.,    0.,\n",
       "           0.,    0.,    0.,    0.,    0.,    0.,   18.,  219.,  253.,\n",
       "         253.,  253.,  253.,  253.,  198.,  182.,  247.,  241.,    0.,\n",
       "           0.,    0.,    0.,    0.,    0.,    0.,    0.,    0.,    0.,\n",
       "           0.,    0.,    0.,    0.,    0.,    0.,    0.,    0.,   80.,\n",
       "         156.,  107.,  253.,  253.,  205.,   11.,    0.,   43.,  154.,\n",
       "           0.,    0.,    0.,    0.,    0.,    0.,    0.,    0.,    0.,\n",
       "           0.,    0.,    0.,    0.,    0.,    0.,    0.,    0.,    0.,\n",
       "           0.,   14.,    1.,  154.,  253.,   90.,    0.,    0.,    0.,\n",
       "           0.,    0.,    0.,    0.,    0.,    0.,    0.,    0.,    0.,\n",
       "           0.,    0.,    0.,    0.,    0.,    0.,    0.,    0.,    0.,\n",
       "           0.,    0.,    0.,    0.,  139.,  253.,  190.,    2.,    0.,\n",
       "           0.,    0.,    0.,    0.,    0.,    0.,    0.,    0.,    0.,\n",
       "           0.,    0.,    0.,    0.,    0.,    0.,    0.,    0.,    0.,\n",
       "           0.,    0.,    0.,    0.,    0.,   11.,  190.,  253.,   70.,\n",
       "           0.,    0.,    0.,    0.,    0.,    0.,    0.,    0.,    0.,\n",
       "           0.,    0.,    0.,    0.,    0.,    0.,    0.,    0.,    0.,\n",
       "           0.,    0.,    0.,    0.,    0.,    0.,    0.,   35.,  241.,\n",
       "         225.,  160.,  108.,    1.,    0.,    0.,    0.,    0.,    0.,\n",
       "           0.,    0.,    0.,    0.,    0.,    0.,    0.,    0.,    0.,\n",
       "           0.,    0.,    0.,    0.,    0.,    0.,    0.,    0.,    0.,\n",
       "          81.,  240.,  253.,  253.,  119.,   25.,    0.,    0.,    0.,\n",
       "           0.,    0.,    0.,    0.,    0.,    0.,    0.,    0.,    0.,\n",
       "           0.,    0.,    0.,    0.,    0.,    0.,    0.,    0.,    0.,\n",
       "           0.,    0.,   45.,  186.,  253.,  253.,  150.,   27.,    0.,\n",
       "           0.,    0.,    0.,    0.,    0.,    0.,    0.,    0.,    0.,\n",
       "           0.,    0.,    0.,    0.,    0.,    0.,    0.,    0.,    0.,\n",
       "           0.,    0.,    0.,    0.,   16.,   93.,  252.,  253.,  187.,\n",
       "           0.,    0.,    0.,    0.,    0.,    0.,    0.,    0.,    0.,\n",
       "           0.,    0.,    0.,    0.,    0.,    0.,    0.,    0.,    0.,\n",
       "           0.,    0.,    0.,    0.,    0.,    0.,    0.,  249.,  253.,\n",
       "         249.,   64.,    0.,    0.,    0.,    0.,    0.,    0.,    0.,\n",
       "           0.,    0.,    0.,    0.,    0.,    0.,    0.,    0.,    0.,\n",
       "           0.,    0.,    0.,    0.,    0.,   46.,  130.,  183.,  253.,\n",
       "         253.,  207.,    2.,    0.,    0.,    0.,    0.,    0.,    0.,\n",
       "           0.,    0.,    0.,    0.,    0.,    0.,    0.,    0.,    0.,\n",
       "           0.,    0.,    0.,    0.,   39.,  148.,  229.,  253.,  253.,\n",
       "         253.,  250.,  182.,    0.,    0.,    0.,    0.,    0.,    0.,\n",
       "           0.,    0.,    0.,    0.,    0.,    0.,    0.,    0.,    0.,\n",
       "           0.,    0.,    0.,   24.,  114.,  221.,  253.,  253.,  253.,\n",
       "         253.,  201.,   78.,    0.,    0.,    0.,    0.,    0.,    0.,\n",
       "           0.,    0.,    0.,    0.,    0.,    0.,    0.,    0.,    0.,\n",
       "           0.,    0.,   23.,   66.,  213.,  253.,  253.,  253.,  253.,\n",
       "         198.,   81.,    2.,    0.,    0.,    0.,    0.,    0.,    0.,\n",
       "           0.,    0.,    0.,    0.,    0.,    0.,    0.,    0.,    0.,\n",
       "           0.,   18.,  171.,  219.,  253.,  253.,  253.,  253.,  195.,\n",
       "          80.,    9.,    0.,    0.,    0.,    0.,    0.,    0.,    0.,\n",
       "           0.,    0.,    0.,    0.,    0.,    0.,    0.,    0.,    0.,\n",
       "          55.,  172.,  226.,  253.,  253.,  253.,  253.,  244.,  133.,\n",
       "          11.,    0.,    0.,    0.,    0.,    0.,    0.,    0.,    0.,\n",
       "           0.,    0.,    0.,    0.,    0.,    0.,    0.,    0.,    0.,\n",
       "           0.,  136.,  253.,  253.,  253.,  212.,  135.,  132.,   16.,\n",
       "           0.,    0.,    0.,    0.,    0.,    0.,    0.,    0.,    0.,\n",
       "           0.,    0.,    0.,    0.,    0.,    0.,    0.,    0.,    0.,\n",
       "           0.,    0.,    0.,    0.,    0.,    0.,    0.,    0.,    0.,\n",
       "           0.,    0.,    0.,    0.,    0.,    0.,    0.,    0.,    0.,\n",
       "           0.,    0.,    0.,    0.,    0.,    0.,    0.,    0.,    0.,\n",
       "           0.,    0.,    0.,    0.,    0.,    0.,    0.,    0.,    0.,\n",
       "           0.,    0.,    0.,    0.,    0.,    0.,    0.,    0.,    0.,\n",
       "           0.,    0.,    0.,    0.,    0.,    0.,    0.,    0.,    0.,\n",
       "           0.,    0.,    0.,    0.,    0.,    0.,    0.,    0.,    0.,\n",
       "           0.,    0.,    0.,    0.,    0.,    0.,    0.,    0.,    0.,\n",
       "           0.,    0.,    0.,    0.,    0.,    0.,    0.,    0.,    0.,    0.]))"
      ]
     },
     "execution_count": 6,
     "metadata": {},
     "output_type": "execute_result"
    }
   ],
   "source": [
    "digits[0]"
   ]
  },
  {
   "cell_type": "code",
   "execution_count": 7,
=======
   "execution_count": 5,
>>>>>>> 8fca3d026166c5c396dbea93d3ac70a502186e34
   "metadata": {
    "collapsed": false
   },
   "outputs": [
    {
     "data": {
      "image/png": "iVBORw0KGgoAAAANSUhEUgAAATkAAAE5CAYAAADr4VfxAAAABHNCSVQICAgIfAhkiAAAAAlwSFlz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\nEE3kgGgiB0QTOSCayAHR/gHQMwQb/uiMigAAAABJRU5ErkJggg==\n",
      "text/plain": [
<<<<<<< HEAD
       "<matplotlib.figure.Figure at 0x1502bac6eb8>"
=======
       "<matplotlib.figure.Figure at 0x18f24e17860>"
>>>>>>> 8fca3d026166c5c396dbea93d3ac70a502186e34
      ]
     },
     "metadata": {},
     "output_type": "display_data"
    }
   ],
   "source": [
    "display_digit(digits[0])"
   ]
  },
  {
   "cell_type": "code",
<<<<<<< HEAD
   "execution_count": 8,
=======
   "execution_count": 6,
>>>>>>> 8fca3d026166c5c396dbea93d3ac70a502186e34
   "metadata": {
    "collapsed": true
   },
   "outputs": [],
   "source": [
    "#Criamos uma nova lista que armazenará apenas a informação dos pixeis\n",
    "#de cada dígito\n",
    "new_digits=[]\n",
    "cont=0\n",
    "while cont<len(digits):\n",
    "    new_digits.append(digits[cont][1])\n",
    "    cont+=1"
   ]
  },
  {
   "cell_type": "code",
<<<<<<< HEAD
   "execution_count": 9,
=======
   "execution_count": 7,
>>>>>>> 8fca3d026166c5c396dbea93d3ac70a502186e34
   "metadata": {
    "collapsed": false
   },
   "outputs": [
    {
     "data": {
      "text/plain": [
       "KMeans(algorithm='auto', copy_x=True, init='k-means++', max_iter=300,\n",
       "    n_clusters=10, n_init=10, n_jobs=1, precompute_distances='auto',\n",
       "    random_state=None, tol=0.0001, verbose=0)"
      ]
     },
     "execution_count": 9,
     "metadata": {},
     "output_type": "execute_result"
    }
   ],
   "source": [
    "#Usamos o KMeans do sklearn para descobrir as clusters\n",
    "n=10\n",
    "kmeans = KMeans(n_clusters=n)\n",
    "kmeans.fit(new_digits)"
   ]
  },
  {
   "cell_type": "code",
<<<<<<< HEAD
   "execution_count": null,
   "metadata": {
    "collapsed": false
   },
   "outputs": [],
=======
   "execution_count": 8,
   "metadata": {
    "collapsed": false
   },
   "outputs": [
    {
     "data": {
      "text/plain": [
       "array([1, 9, 0, ..., 1, 6, 6])"
      ]
     },
     "execution_count": 8,
     "metadata": {},
     "output_type": "execute_result"
    }
   ],
>>>>>>> 8fca3d026166c5c396dbea93d3ac70a502186e34
   "source": [
    "#Criamos uma lista com o index da cluster à qual cada dígito pertence\n",
    "#Criamos também uma lista com os centros de cada cluster\n",
    "clus=kmeans.predict(new_digits)\n",
    "centers = kmeans.cluster_centers_\n",
    "clus"
   ]
  },
  {
   "cell_type": "code",
<<<<<<< HEAD
   "execution_count": null,
   "metadata": {
    "collapsed": false
   },
   "outputs": [],
=======
   "execution_count": 9,
   "metadata": {
    "collapsed": false
   },
   "outputs": [
    {
     "data": {
      "image/png": "iVBORw0KGgoAAAANSUhEUgAAAckAAACxCAYAAACvOUZpAAAABHNCSVQICAgIfAhkiAAAAAlwSFlz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\n",
      "text/plain": [
       "<matplotlib.figure.Figure at 0x18f42651e48>"
      ]
     },
     "metadata": {},
     "output_type": "display_data"
    }
   ],
>>>>>>> 8fca3d026166c5c396dbea93d3ac70a502186e34
   "source": [
    "#Encontramos os pontos mais próximos dos centros de cada cluster e plotamos eles,\n",
    "#para que seja possível ter uma ideia da forma dos números que estão em cada\n",
    "#cluster. Idealmente, cada cluster só conteria dígitos que são os mesmos que seus\n",
    "#centros\n",
    "fig, ax = plt.subplots(2, 5, figsize=(8, 3))\n",
    "centers = centers.reshape(10, 28, 28)\n",
    "for axi, center in zip(ax.flat, centers):\n",
    "    axi.set(xticks=[], yticks=[])\n",
    "    axi.imshow(center, interpolation='nearest', cmap=plt.cm.binary)"
   ]
  },
  {
   "cell_type": "code",
   "execution_count": null,
   "metadata": {
    "collapsed": true
   },
   "outputs": [],
   "source": [
    "def acha_nome(i):\n",
    "    valores=[0,0,0,0,0,0,0,0,0,0]\n",
    "    cont=0\n",
    "    while cont<len(digits):\n",
    "        if clus[cont]==i:\n",
    "            valores[digits[cont][0]]=valores[digits[cont][0]]+1\n",
    "        cont=cont+1\n",
    "    m=max(valores)\n",
    "    cont=0\n",
    "    while cont<len(valores):\n",
    "        if m==valores[cont]:\n",
    "            return cont\n",
    "        cont=cont+1\n",
    "            "
   ]
  },
  {
   "cell_type": "code",
<<<<<<< HEAD
   "execution_count": null,
   "metadata": {
    "collapsed": false
   },
   "outputs": [],
=======
   "execution_count": 11,
   "metadata": {
    "collapsed": false
   },
   "outputs": [
    {
     "data": {
      "text/plain": [
       "array([4, 8, 7, 1, 3, 2, 5, 1, 6, 0])"
      ]
     },
     "execution_count": 11,
     "metadata": {},
     "output_type": "execute_result"
    }
   ],
>>>>>>> 8fca3d026166c5c396dbea93d3ac70a502186e34
   "source": [
    "#Utilizamos a função para encontrar o dígito mais frequente e \"nomeamos\" a cluster\n",
    "#por esse dígito. O index na lista nomes representa o index da cluster e o valor\n",
    "#a ele associado é o nome da cluster.\n",
    "nomes=np.arange(0,n)\n",
    "cont=0\n",
    "while cont<len(nomes):\n",
    "    nomes[cont]=acha_nome(cont)\n",
    "    cont=cont+1\n",
    "nomes"
   ]
  },
  {
   "cell_type": "code",
<<<<<<< HEAD
   "execution_count": null,
=======
   "execution_count": 12,
>>>>>>> 8fca3d026166c5c396dbea93d3ac70a502186e34
   "metadata": {
    "collapsed": true
   },
   "outputs": [],
   "source": [
    "#Cria lista ground truth, que possúi o real valor de cada dígito\n",
    "gt=[]\n",
    "clus_nome=[]\n",
    "cont=0\n",
    "while cont<len(digits):\n",
    "    gt.append(digits[cont][0])\n",
    "    clus_nome.append(nomes[clus[cont]])\n",
    "    cont=cont+1"
   ]
  },
  {
   "cell_type": "code",
<<<<<<< HEAD
   "execution_count": null,
   "metadata": {
    "collapsed": false
   },
   "outputs": [],
=======
   "execution_count": 13,
   "metadata": {
    "collapsed": false
   },
   "outputs": [
    {
     "data": {
      "image/png": "iVBORw0KGgoAAAANSUhEUgAAAVcAAAFXCAYAAAAWMQ0YAAAABHNCSVQICAgIfAhkiAAAAAlwSFlz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\nQmCC\n",
      "text/plain": [
       "<matplotlib.figure.Figure at 0x18f019cfe48>"
      ]
     },
     "metadata": {},
     "output_type": "display_data"
    }
   ],
>>>>>>> 8fca3d026166c5c396dbea93d3ac70a502186e34
   "source": [
    "#Criamos uma confusion matrix, que nos mostra os erros e acertos das clusters\n",
    "mat = confusion_matrix(gt, clus_nome)\n",
    "sns.heatmap(mat.T, square=True, annot=True, fmt='d', cbar=False,\n",
    "            xticklabels=np.arange(0,10),\n",
    "            yticklabels=np.arange(0,10))\n",
    "plt.xlabel('true label')\n",
    "plt.ylabel('predicted label');"
   ]
  },
  {
   "cell_type": "code",
<<<<<<< HEAD
   "execution_count": null,
=======
   "execution_count": 14,
>>>>>>> 8fca3d026166c5c396dbea93d3ac70a502186e34
   "metadata": {
    "collapsed": true
   },
   "outputs": [],
   "source": [
    "#Escrevemos, agora, um código que nos dirá a porcentamge dos acertos\n",
    "def taxa(mat):\n",
    "    acertos=0\n",
    "    cont=0\n",
    "    while cont<10:\n",
    "        acertos += mat[cont][cont]\n",
    "        cont += 1\n",
    "    taxa = acertos/60000\n",
    "    return taxa"
   ]
  },
  {
   "cell_type": "code",
<<<<<<< HEAD
   "execution_count": null,
   "metadata": {
    "collapsed": false
   },
   "outputs": [],
=======
   "execution_count": 15,
   "metadata": {
    "collapsed": false
   },
   "outputs": [
    {
     "data": {
      "text/plain": [
       "0.58304999999999996"
      ]
     },
     "execution_count": 15,
     "metadata": {},
     "output_type": "execute_result"
    }
   ],
>>>>>>> 8fca3d026166c5c396dbea93d3ac70a502186e34
   "source": [
    "taxa(mat)"
   ]
  },
  {
   "cell_type": "markdown",
   "metadata": {},
   "source": [
    "Vemos, assim, que nosso programa já é capaz de agrupar os dígitos na maior parte das vezes. Ainda podemos, no entanto, melhorar bastante sua performance. Olhando para a confusion matrix, é fácil perceber um grave problema: cincos e noves nunca foram corretamente classificados. Olhando para a lista com os \"nomes\" dos clusters e para as imagens dos centros, encontramos o motivo: nenhuma cluster foi classificada como \"5\" ou como \"9\", apesar de dois dos centros serem noves. As clusters desses centros receberam os nomes de 7 e 4, que de fato se assemelham à forma dos noves da imagem. Também vemos que dois dos centros são uns e outros dois são zeros. Isso ocorre porque existem mais do que uma forma de desenhar certos dígitos. Nossa decisão inicial de aplicar o k-means com apenas 10 clusters acabou comprometendo a performance do programa."
   ]
  },
  {
   "cell_type": "markdown",
   "metadata": {},
   "source": [
    "Fazemos, a seguir, um estudo de performance em relação ao número de clusters:"
   ]
  },
  {
   "cell_type": "code",
   "execution_count": null,
   "metadata": {
    "collapsed": false
   },
   "outputs": [],
   "source": [
    "n=10\n",
    "perf=[]\n",
    "while n<31:\n",
    "    kmeans = KMeans(n_clusters=n)\n",
    "    kmeans.fit(new_digits)\n",
    "    clus=kmeans.predict(new_digits)\n",
    "    nomes=np.arange(0,n)\n",
    "    cont=0\n",
    "    while cont<len(nomes):\n",
    "        nomes[cont]=acha_nome(cont)\n",
    "        cont=cont+1\n",
    "    gt=[]\n",
    "    clus_nome=[]\n",
    "    cont=0\n",
    "    while cont<len(digits):\n",
    "        gt.append(digits[cont][0])\n",
    "        clus_nome.append(nomes[clus[cont]])\n",
    "        cont=cont+1\n",
    "    mat = confusion_matrix(gt, clus_nome)\n",
    "    perf.append(taxa(mat))\n",
    "    n+=1\n",
    "perf"
   ]
  },
  {
   "cell_type": "code",
   "execution_count": null,
   "metadata": {
    "collapsed": false
   },
   "outputs": [],
   "source": [
    "perf2=[]\n",
    "n=31\n",
    "while n<41:\n",
    "    kmeans = KMeans(n_clusters=n)\n",
    "    kmeans.fit(new_digits)\n",
    "    clus=kmeans.predict(new_digits)\n",
    "    nomes=np.arange(0,n)\n",
    "    cont=0\n",
    "    while cont<len(nomes):\n",
    "        nomes[cont]=acha_nome(cont)\n",
    "        cont=cont+1\n",
    "    gt=[]\n",
    "    clus_nome=[]\n",
    "    cont=0\n",
    "    while cont<len(digits):\n",
    "        gt.append(digits[cont][0])\n",
    "        clus_nome.append(nomes[clus[cont]])\n",
    "        cont=cont+1\n",
    "    mat = confusion_matrix(gt, clus_nome)\n",
    "    perf2.append(taxa(mat))\n",
    "    n+=1\n",
    "perf2"
   ]
  },
  {
   "cell_type": "code",
   "execution_count": null,
   "metadata": {
    "collapsed": false
   },
   "outputs": [],
   "source": [
    "perf4=[]\n",
    "n=41\n",
    "while n<46:\n",
    "    kmeans = KMeans(n_clusters=n)\n",
    "    kmeans.fit(new_digits)\n",
    "    clus=kmeans.predict(new_digits)\n",
    "    nomes=np.arange(0,n)\n",
    "    cont=0\n",
    "    while cont<len(nomes):\n",
    "        nomes[cont]=acha_nome(cont)\n",
    "        cont=cont+1\n",
    "    gt=[]\n",
    "    clus_nome=[]\n",
    "    cont=0\n",
    "    while cont<len(digits):\n",
    "        gt.append(digits[cont][0])\n",
    "        clus_nome.append(nomes[clus[cont]])\n",
    "        cont=cont+1\n",
    "    mat = confusion_matrix(gt, clus_nome)\n",
    "    perf4.append(taxa(mat))\n",
    "    n+=1\n",
    "perf4"
   ]
  },
  {
   "cell_type": "code",
   "execution_count": null,
   "metadata": {
    "collapsed": false
   },
   "outputs": [],
   "source": [
    "n=100\n",
    "kmeans = KMeans(n_clusters=n)\n",
    "kmeans.fit(new_digits)\n",
    "clus=kmeans.predict(new_digits)\n",
    "nomes=np.arange(0,n)\n",
    "cont=0\n",
    "while cont<len(nomes):\n",
    "    nomes[cont]=acha_nome(cont)\n",
    "    cont=cont+1\n",
    "gt=[]\n",
    "clus_nome=[]\n",
    "cont=0\n",
    "while cont<len(digits):\n",
    "    gt.append(digits[cont][0])\n",
    "    clus_nome.append(nomes[clus[cont]])\n",
    "    cont=cont+1\n",
    "mat = confusion_matrix(gt, clus_nome)\n",
    "taxa100=taxa(mat)\n",
    "print(taxa100)"
   ]
  },
  {
   "cell_type": "code",
   "execution_count": null,
   "metadata": {
    "collapsed": false
   },
   "outputs": [],
   "source": [
    "perf3=perf+perf2\n",
    "perf3=perf3+perf4\n",
    "plt.plot(np.arange(10,46),perf3)\n",
    "plt.show()"
   ]
  },
  {
   "cell_type": "code",
   "execution_count": null,
   "metadata": {
    "collapsed": true
   },
   "outputs": [],
   "source": [
    "Nosso estudo nos mostra que à medida que aumentamos o número de clusters, a \n",
    "performance melhora, sem limite aparente. Ao considerar 100 clusters para o\n",
    "algorítmo, a performance foi bem superior, chegando a quase 88%"
   ]
  },
  {
   "cell_type": "code",
   "execution_count": null,
   "metadata": {
    "collapsed": false
   },
   "outputs": [],
   "source": [
    "n=20\n",
    "kmeans = KMeans(n_clusters=n)\n",
    "kmeans.fit(new_digits)\n",
    "clus=kmeans.predict(new_digits)\n",
    "centers = kmeans.cluster_centers_\n",
    "fig, ax = plt.subplots(4, 5, figsize=(8, 3))\n",
    "centers = centers.reshape(20, 28, 28)\n",
    "for axi, center in zip(ax.flat, centers):\n",
    "    axi.set(xticks=[], yticks=[])\n",
    "    axi.imshow(center, interpolation='nearest', cmap=plt.cm.binary)"
   ]
  },
  {
   "cell_type": "code",
   "execution_count": null,
   "metadata": {
    "collapsed": false
   },
   "outputs": [],
   "source": [
    "n=45\n",
    "kmeans = KMeans(n_clusters=n)\n",
    "kmeans.fit(new_digits)\n",
    "clus=kmeans.predict(new_digits)\n",
    "centers = kmeans.cluster_centers_\n",
    "fig, ax = plt.subplots(9, 5, figsize=(8, 3))\n",
    "centers = centers.reshape(45, 28, 28)\n",
    "for axi, center in zip(ax.flat, centers):\n",
    "    axi.set(xticks=[], yticks=[])\n",
    "    axi.imshow(center, interpolation='nearest', cmap=plt.cm.binary)"
   ]
  },
  {
   "cell_type": "markdown",
   "metadata": {},
   "source": [
    "Vemos aqui, para 45 clusters, os centros. De acordo com o que esperávamos, os centros parecem tomar a forma de jeitos comuns de se escrever cada dígito. Parece que à medida que tomamos mais e mais clusters para rodar o algorítmo, obtemos mais centros que correspondem a uma forma específica de se escrever cada dígito, assim aumentando a chance daquele dígito ser corretamente classificado."
   ]
  },
  {
   "cell_type": "code",
   "execution_count": null,
   "metadata": {
    "collapsed": false
   },
   "outputs": [],
   "source": [
    "nomes=np.arange(0,n)\n",
    "cont=0\n",
    "while cont<len(nomes):\n",
    "    nomes[cont]=acha_nome(cont)\n",
    "    cont=cont+1\n",
    "mat = confusion_matrix(gt, clus_nome)\n",
    "sns.heatmap(mat.T, square=True, annot=True, fmt='d', cbar=False,\n",
    "            xticklabels=np.arange(0,10),\n",
    "            yticklabels=np.arange(0,10))\n",
    "plt.xlabel('true label')\n",
    "plt.ylabel('predicted label');"
   ]
  },
  {
   "cell_type": "code",
   "execution_count": null,
   "metadata": {
    "collapsed": true
   },
   "outputs": [],
   "source": [
    "# print(*clus, sep='\\n')"
   ]
  },
  {
   "cell_type": "code",
   "execution_count": null,
   "metadata": {
    "collapsed": true
   },
   "outputs": [],
   "source": []
  }
 ],
 "metadata": {
  "kernelspec": {
   "display_name": "Python 3",
   "language": "python",
   "name": "python3"
  },
  "language_info": {
   "codemirror_mode": {
    "name": "ipython",
    "version": 3
   },
   "file_extension": ".py",
   "mimetype": "text/x-python",
   "name": "python",
   "nbconvert_exporter": "python",
   "pygments_lexer": "ipython3",
   "version": "3.6.0"
  }
 },
 "nbformat": 4,
 "nbformat_minor": 2
}
