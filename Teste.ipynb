{
 "cells": [
  {
   "cell_type": "code",
   "execution_count": 50,
   "metadata": {
    "collapsed": true
   },
   "outputs": [],
   "source": [
    "%matplotlib inline\n",
    "import pandas as pd\n",
    "import numpy as np\n",
    "from scipy import stats\n",
    "import matplotlib.pyplot as plt\n",
    "import math\n",
    "from sklearn.cluster import KMeans\n",
    "from sklearn import datasets\n",
    "import random"
   ]
  },
  {
   "cell_type": "code",
   "execution_count": 51,
   "metadata": {},
   "outputs": [
    {
     "data": {
      "text/html": [
       "<div>\n",
       "<style>\n",
       "    .dataframe thead tr:only-child th {\n",
       "        text-align: right;\n",
       "    }\n",
       "\n",
       "    .dataframe thead th {\n",
       "        text-align: left;\n",
       "    }\n",
       "\n",
       "    .dataframe tbody tr th {\n",
       "        vertical-align: top;\n",
       "    }\n",
       "</style>\n",
       "<table border=\"1\" class=\"dataframe\">\n",
       "  <thead>\n",
       "    <tr style=\"text-align: right;\">\n",
       "      <th></th>\n",
       "      <th>Altura</th>\n",
       "      <th>Especie</th>\n",
       "      <th>Peso</th>\n",
       "    </tr>\n",
       "  </thead>\n",
       "  <tbody>\n",
       "    <tr>\n",
       "      <th>0</th>\n",
       "      <td>2.90</td>\n",
       "      <td>elefante</td>\n",
       "      <td>5400</td>\n",
       "    </tr>\n",
       "    <tr>\n",
       "      <th>1</th>\n",
       "      <td>2.20</td>\n",
       "      <td>elefante</td>\n",
       "      <td>5450</td>\n",
       "    </tr>\n",
       "    <tr>\n",
       "      <th>2</th>\n",
       "      <td>0.70</td>\n",
       "      <td>onça</td>\n",
       "      <td>83</td>\n",
       "    </tr>\n",
       "    <tr>\n",
       "      <th>3</th>\n",
       "      <td>2.70</td>\n",
       "      <td>elefante</td>\n",
       "      <td>5470</td>\n",
       "    </tr>\n",
       "    <tr>\n",
       "      <th>4</th>\n",
       "      <td>0.70</td>\n",
       "      <td>onça</td>\n",
       "      <td>92</td>\n",
       "    </tr>\n",
       "    <tr>\n",
       "      <th>5</th>\n",
       "      <td>3.00</td>\n",
       "      <td>elefante</td>\n",
       "      <td>5300</td>\n",
       "    </tr>\n",
       "    <tr>\n",
       "      <th>6</th>\n",
       "      <td>0.66</td>\n",
       "      <td>onça</td>\n",
       "      <td>80</td>\n",
       "    </tr>\n",
       "    <tr>\n",
       "      <th>7</th>\n",
       "      <td>0.70</td>\n",
       "      <td>onça</td>\n",
       "      <td>85</td>\n",
       "    </tr>\n",
       "    <tr>\n",
       "      <th>8</th>\n",
       "      <td>2.60</td>\n",
       "      <td>elefante</td>\n",
       "      <td>5440</td>\n",
       "    </tr>\n",
       "    <tr>\n",
       "      <th>9</th>\n",
       "      <td>0.66</td>\n",
       "      <td>onça</td>\n",
       "      <td>96</td>\n",
       "    </tr>\n",
       "    <tr>\n",
       "      <th>10</th>\n",
       "      <td>0.72</td>\n",
       "      <td>onça</td>\n",
       "      <td>70</td>\n",
       "    </tr>\n",
       "    <tr>\n",
       "      <th>11</th>\n",
       "      <td>2.90</td>\n",
       "      <td>elefante</td>\n",
       "      <td>5300</td>\n",
       "    </tr>\n",
       "  </tbody>\n",
       "</table>\n",
       "</div>"
      ],
      "text/plain": [
       "    Altura   Especie  Peso\n",
       "0     2.90  elefante  5400\n",
       "1     2.20  elefante  5450\n",
       "2     0.70      onça    83\n",
       "3     2.70  elefante  5470\n",
       "4     0.70      onça    92\n",
       "5     3.00  elefante  5300\n",
       "6     0.66      onça    80\n",
       "7     0.70      onça    85\n",
       "8     2.60  elefante  5440\n",
       "9     0.66      onça    96\n",
       "10    0.72      onça    70\n",
       "11    2.90  elefante  5300"
      ]
     },
     "execution_count": 51,
     "metadata": {},
     "output_type": "execute_result"
    }
   ],
   "source": [
    "#Criando um dataset\n",
    "d = {'Peso': [5400,5450,83,5470,92,5300,80,85,5440,96,70,5300],\n",
    "     'Altura': [2.9, 2.2,0.70,2.7,0.70,3,0.66,0.70,2.6,0.66,0.72,2.9],\n",
    "    'Especie':['elefante','elefante','onça','elefante','onça','elefante','onça','onça','elefante','onça','onça','elefante']}\n",
    "df=pd.DataFrame(data=d)\n",
    "df"
   ]
  },
  {
   "cell_type": "code",
   "execution_count": 52,
   "metadata": {},
   "outputs": [
    {
     "data": {
      "image/png": "[encoded data removed]",
      "text/plain": [
       "<matplotlib.figure.Figure at 0x209642752e8>"
      ]
     },
     "metadata": {},
     "output_type": "display_data"
    }
   ],
   "source": [
    "#Plotando cada membro do dataset para identificar as clusters\n",
    "plt.plot(list(df['Peso']),list(df['Altura']),'ro')\n",
    "plt.show()"
   ]
  },
  {
   "cell_type": "code",
   "execution_count": 62,
   "metadata": {
    "collapsed": true
   },
   "outputs": [],
   "source": [
    "#Implementação do k-means\n",
    "def Lloyd(c1x,c1y,c2x,c2y):\n",
    "    m1x=0\n",
    "    m1y=0\n",
    "    m2x=0\n",
    "    m2y=0\n",
    "    d1=[]\n",
    "    d2=[]\n",
    "    cont=0\n",
    "    while cont<12:\n",
    "        d=((c1x-df['Peso'][cont])**2+(c1y-df['Altura'][cont])**2)**0.5\n",
    "        d1.append(d)\n",
    "        d=((c2x-df['Peso'][cont])**2+(c2y-df['Altura'][cont])**2)**0.5\n",
    "        d2.append(d)\n",
    "        cont=cont+1\n",
    "    cont=0\n",
    "    cl1=[]\n",
    "    cl2=[]\n",
    "    while cont<12:\n",
    "        if d1<=d2:\n",
    "            cl1.append(cont)\n",
    "        else:\n",
    "            cl2.append(cont)\n",
    "        cont=cont+1\n",
    "    cont=0\n",
    "    while cont<len(cl1):\n",
    "        a=cl1[cont]\n",
    "        m1x=m1x+df['Peso'][a]\n",
    "        m1y=m1y+df['Altura'][a]\n",
    "        cont=cont+1\n",
    "    if cont != 0:\n",
    "        \n",
    "        m1x=m1x/cont\n",
    "        m1y=m1y/cont\n",
    "\n",
    "    cont=0\n",
    "    while cont<len(cl2):\n",
    "        a=cl2[cont]\n",
    "        m2x=m2x+df['Peso'][a]\n",
    "        m2y=m2y+df['Altura'][a]\n",
    "        cont=cont+1\n",
    "    if cont != 0:\n",
    "        m2x=m2x/cont\n",
    "        m2y=m2y/cont\n",
    "    return m1x,m1y,m2x,m2y"
   ]
  },
  {
   "cell_type": "code",
   "execution_count": 63,
   "metadata": {},
   "outputs": [
    {
     "name": "stdout",
     "output_type": "stream",
     "text": [
      "(0, 0, 2738.8333333333335, 1.7033333333333331)\n"
     ]
    }
   ],
   "source": [
    "#Dois valores aleatórios são gerados, simulando a seleção de dois membros do dataset\n",
    "#para iniciar o k-means\n",
    "r1=random.randint(0,12)\n",
    "r2=random.randint(0,12)\n",
    "c1x=df['Peso'][r1]\n",
    "c1y=df['Altura'][r1]\n",
    "c2x=df['Peso'][r2]\n",
    "c2y=df['Altura'][r2]\n",
    "a=Lloyd(c1x,c1y,c2x,c2y)\n",
    "cont=0\n",
    "#A função retorna as coordenadas da nova centroide que serao utilizadas novamente\n",
    "#na funcao, ate ela convergir.\n",
    "while cont<10:\n",
    "    Lloyd(a[0],a[1],a[2],a[3])\n",
    "    cont=cont+1\n",
    "print(a)"
   ]
  },
  {
   "cell_type": "code",
   "execution_count": null,
   "metadata": {
    "collapsed": true
   },
   "outputs": [],
   "source": []
  },
  {
   "cell_type": "code",
   "execution_count": null,
   "metadata": {
    "collapsed": true
   },
   "outputs": [],
   "source": []
  }
 ],
 "metadata": {
  "kernelspec": {
   "display_name": "Python 3",
   "language": "python",
   "name": "python3"
  },
  "language_info": {
   "codemirror_mode": {
    "name": "ipython",
    "version": 3
   },
   "file_extension": ".py",
   "mimetype": "text/x-python",
   "name": "python",
   "nbconvert_exporter": "python",
   "pygments_lexer": "ipython3",
   "version": "3.6.1"
  }
 },
 "nbformat": 4,
 "nbformat_minor": 2
}
